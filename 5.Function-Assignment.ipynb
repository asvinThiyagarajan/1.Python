{
 "cells": [
  {
   "cell_type": "code",
   "execution_count": null,
   "id": "70a3d5bd-cd58-4fb3-bf0e-9accc4fe14a5",
   "metadata": {},
   "outputs": [],
   "source": [
    "# Create a class and function, and list out the items in the list"
   ]
  },
  {
   "cell_type": "code",
   "execution_count": 13,
   "id": "99599438-a84d-4992-97e4-59aa185eeae2",
   "metadata": {},
   "outputs": [],
   "source": [
    "def Subfields():\n",
    "    subFieldsinAI=[\"Machine Learning\",\"Neural Networks\",\"Vision\",\"Robotics\",\"Speech Processing\",\"Natural Language Processing\"]\n",
    "    print(\"Sub-fields in AI are:\")\n",
    "    for fields in subFieldsinAI:\n",
    "        print(fields)"
   ]
  },
  {
   "cell_type": "code",
   "execution_count": 14,
   "id": "29904987-605d-46c0-a64c-4a1962c1c453",
   "metadata": {},
   "outputs": [
    {
     "name": "stdout",
     "output_type": "stream",
     "text": [
      "Sub-fields in AI are:\n",
      "Machine Learning\n",
      "Neural Networks\n",
      "Vision\n",
      "Robotics\n",
      "Speech Processing\n",
      "Natural Language Processing\n"
     ]
    }
   ],
   "source": [
    "Subfields()"
   ]
  },
  {
   "cell_type": "code",
   "execution_count": null,
   "id": "98b60e8f-461f-4302-a5fa-0976b31f648d",
   "metadata": {},
   "outputs": [],
   "source": [
    "# Create a function that checks whether the given number is Odd or Even"
   ]
  },
  {
   "cell_type": "code",
   "execution_count": 18,
   "id": "e547bdc5-03df-4aa7-a794-bdd043162284",
   "metadata": {},
   "outputs": [],
   "source": [
    "def OddEven():\n",
    "    num=int(input(\"Enter a number:\"))\n",
    "    if(num%2==0):\n",
    "        print(num,\"is Even number\")\n",
    "    else:\n",
    "        print(num,\"is Odd number\")"
   ]
  },
  {
   "cell_type": "code",
   "execution_count": 19,
   "id": "8054afc5-08db-47fb-bba8-8f3754a265da",
   "metadata": {},
   "outputs": [
    {
     "name": "stdin",
     "output_type": "stream",
     "text": [
      "Enter a number: 52452\n"
     ]
    },
    {
     "name": "stdout",
     "output_type": "stream",
     "text": [
      "52452 is Even number\n"
     ]
    }
   ],
   "source": [
    "OddEven()"
   ]
  },
  {
   "cell_type": "code",
   "execution_count": null,
   "id": "e671905e-1890-41b9-abb3-0428455fd270",
   "metadata": {},
   "outputs": [],
   "source": [
    " # Create a function that tells elegibility of marriage for male and female according to their age limit like 21 for male and 18 for female"
   ]
  },
  {
   "cell_type": "code",
   "execution_count": 40,
   "id": "bcbeef6f-6547-41fc-8c7e-c4ce3be9d30f",
   "metadata": {},
   "outputs": [],
   "source": [
    "def Eligible():\n",
    "    Gender=input(\"Your Gender:\")\n",
    "    Age=int(input(\"Your Age:\"))\n",
    "    if(Gender==\"Male\" and Age>=21):\n",
    "        print(\"ELIGIBLE\")\n",
    "    elif(Gender==\"Female\" and Age>=18):\n",
    "        print(\"ELIGIBLE\")\n",
    "    else:\n",
    "        print(\"NOT ELIGIBLE\")"
   ]
  },
  {
   "cell_type": "code",
   "execution_count": 41,
   "id": "d42243de-674d-4b59-a1cb-6d7f7b6889e0",
   "metadata": {},
   "outputs": [
    {
     "name": "stdin",
     "output_type": "stream",
     "text": [
      "Your Gender: Male\n",
      "Your Age: 20\n"
     ]
    },
    {
     "name": "stdout",
     "output_type": "stream",
     "text": [
      "NOT ELIGIBLE\n"
     ]
    }
   ],
   "source": [
    "Eligible()"
   ]
  },
  {
   "cell_type": "code",
   "execution_count": null,
   "id": "8adf1a65-0593-4c13-9106-8c2170f04747",
   "metadata": {},
   "outputs": [],
   "source": [
    "# calculate the percentage of your 10th mark"
   ]
  },
  {
   "cell_type": "code",
   "execution_count": 32,
   "id": "1beca5ec-9753-449f-a739-6c0bb00b68fc",
   "metadata": {},
   "outputs": [],
   "source": [
    "def percentage():\n",
    "    Subject1=int(input(\"Subject1=\"))\n",
    "    Subject2=int(input(\"Subject2=\"))\n",
    "    Subject3=int(input(\"Subject3=\"))\n",
    "    Subject4=int(input(\"Subject4=\"))\n",
    "    Subject5=int(input(\"Subject5=\"))\n",
    "    Total=Subject1+Subject2+Subject3+Subject4+Subject5\n",
    "    Percentage=(Total/500)*100\n",
    "    print(\"Total :\",Total)\n",
    "    print(\"Percentage :\",Percentage)\n",
    "             "
   ]
  },
  {
   "cell_type": "code",
   "execution_count": 33,
   "id": "217622f8-7407-4f14-813e-046c2a1d75c4",
   "metadata": {},
   "outputs": [
    {
     "name": "stdin",
     "output_type": "stream",
     "text": [
      "Subject1= 98\n",
      "Subject2= 87\n",
      "Subject3= 95\n",
      "Subject4= 95\n",
      "Subject5= 93\n"
     ]
    },
    {
     "name": "stdout",
     "output_type": "stream",
     "text": [
      "Total : 468\n",
      "Percentage : 93.60000000000001\n"
     ]
    }
   ],
   "source": [
    "percentage()"
   ]
  },
  {
   "cell_type": "code",
   "execution_count": null,
   "id": "0a54b2a9-cb0a-4258-969b-fc8580f479d7",
   "metadata": {},
   "outputs": [],
   "source": [
    "#print area and perimeter of triangle using class and functions"
   ]
  },
  {
   "cell_type": "code",
   "execution_count": 44,
   "id": "39725e65-5093-44fd-b050-30244cfec7ff",
   "metadata": {},
   "outputs": [],
   "source": [
    "def triangle():\n",
    "    Height=int(input(\"Height:\"))\n",
    "    Breadth=int(input(\"Breadth:\"))\n",
    "    areaOfTriangle=(Height*Breadth)/2\n",
    "    print(\"Area formula: (Height*Breadth)/2\")\n",
    "    print(\"Area of Triangle:\",areaOfTriangle)\n",
    "    Height1=int(input(\"Height1:\"))\n",
    "    Height2=int(input(\"Height2:\"))\n",
    "    Breadth=int(input(\"Breadth:\"))\n",
    "    perimeterOfTriangle=Height1+Height2+Breadth\n",
    "    print(\"Perimeter formula: Height1+Height2+Breadth\")\n",
    "    print(\"Perimeter of Triangle:\",perimeterOfTriangle)\n"
   ]
  },
  {
   "cell_type": "code",
   "execution_count": 45,
   "id": "18b063d2-4308-4e7c-a47f-c33f35b1b577",
   "metadata": {},
   "outputs": [
    {
     "name": "stdin",
     "output_type": "stream",
     "text": [
      "Height: 32\n",
      "Breadth: 34\n"
     ]
    },
    {
     "name": "stdout",
     "output_type": "stream",
     "text": [
      "Area formula: (Height*Breadth)/2\n",
      "Area of Triangle: 544.0\n"
     ]
    },
    {
     "name": "stdin",
     "output_type": "stream",
     "text": [
      "Height1: 2\n",
      "Height2: 4\n",
      "Breadth: 4\n"
     ]
    },
    {
     "name": "stdout",
     "output_type": "stream",
     "text": [
      "Perimeter formula: Height1+Height2+Breadth\n",
      "Perimeter of Triangle: 10\n"
     ]
    }
   ],
   "source": [
    "triangle()"
   ]
  }
 ],
 "metadata": {
  "kernelspec": {
   "display_name": "Python 3 (ipykernel)",
   "language": "python",
   "name": "python3"
  },
  "language_info": {
   "codemirror_mode": {
    "name": "ipython",
    "version": 3
   },
   "file_extension": ".py",
   "mimetype": "text/x-python",
   "name": "python",
   "nbconvert_exporter": "python",
   "pygments_lexer": "ipython3",
   "version": "3.11.7"
  }
 },
 "nbformat": 4,
 "nbformat_minor": 5
}
