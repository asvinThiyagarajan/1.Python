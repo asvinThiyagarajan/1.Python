{
 "cells": [
  {
   "cell_type": "code",
   "execution_count": null,
   "id": "b031c39e-98b1-411f-b250-5a4f87e2e09b",
   "metadata": {},
   "outputs": [],
   "source": [
    "# 4.Extra Assignment 3 - level 3 - python - ASVIN"
   ]
  },
  {
   "cell_type": "code",
   "execution_count": 1,
   "id": "e0e49c8c-358f-45f9-8cae-e7e8d23265b1",
   "metadata": {},
   "outputs": [
    {
     "name": "stdin",
     "output_type": "stream",
     "text": [
      "value: 10\n"
     ]
    },
    {
     "name": "stdout",
     "output_type": "stream",
     "text": [
      "correct\n"
     ]
    }
   ],
   "source": [
    "# print 'CORRECT' if i == 10\n",
    "\n",
    "i=int(input(\"value:\"))\n",
    "if(i==10):\n",
    "      print(\"correct\")"
   ]
  },
  {
   "cell_type": "code",
   "execution_count": 2,
   "id": "5e62d978-e74f-4bf6-9c28-be35db7df9ee",
   "metadata": {},
   "outputs": [
    {
     "name": "stdin",
     "output_type": "stream",
     "text": [
      "Enter the password: HOPE@123\n"
     ]
    },
    {
     "name": "stdout",
     "output_type": "stream",
     "text": [
      "Your password is correct\n"
     ]
    }
   ],
   "source": [
    "# Check the password, using if and else\n",
    "\n",
    "Password=input(\"Enter the password:\")\n",
    "if(Password==\"HOPE@123\"):\n",
    "    print(\"Your password is correct\")"
   ]
  },
  {
   "cell_type": "code",
   "execution_count": 19,
   "id": "9d57184a-a518-4660-a2e1-cb749a2519f8",
   "metadata": {},
   "outputs": [
    {
     "name": "stdin",
     "output_type": "stream",
     "text": [
      "age: 20\n"
     ]
    },
    {
     "name": "stdout",
     "output_type": "stream",
     "text": [
      "adult\n"
     ]
    }
   ],
   "source": [
    "# Catagory the people by their age like children, adult, citizen, senior citizen...\n",
    "\n",
    "age=int(input(\"age:\"))\n",
    "if(age<18):\n",
    "        print(\"children\")\n",
    "elif(age<35):\n",
    "        print(\"adult\")\n",
    "elif(age<60):\n",
    "        print(\"citizen\")\n",
    "else:\n",
    "        print(\"senior citizen\")\n"
   ]
  },
  {
   "cell_type": "code",
   "execution_count": 22,
   "id": "5d81d669-c2d7-4d39-8a6a-c5a7f391142b",
   "metadata": {},
   "outputs": [
    {
     "name": "stdin",
     "output_type": "stream",
     "text": [
      "Enter any number 1\n"
     ]
    },
    {
     "name": "stdout",
     "output_type": "stream",
     "text": [
      "No is positive\n"
     ]
    }
   ],
   "source": [
    "# Find whether given number is positive or negative\n",
    "\n",
    "Num=int(input(\"Enter any number\"))\n",
    "if(Num>0):\n",
    "    print(\"No is positive\")\n",
    "else:\n",
    "    print(\"No is negative\")"
   ]
  },
  {
   "cell_type": "code",
   "execution_count": 26,
   "id": "62b03ccc-d8db-41f2-bcf5-404a8e85ffb5",
   "metadata": {},
   "outputs": [
    {
     "name": "stdin",
     "output_type": "stream",
     "text": [
      "Enter a number to check: 22\n"
     ]
    },
    {
     "name": "stdout",
     "output_type": "stream",
     "text": [
      "No is not divisible by 5\n"
     ]
    }
   ],
   "source": [
    "# Check whether the given number is divisible by 5\n",
    "\n",
    "Num=int(input(\"Enter a number to check:\"))\n",
    "if(Num%5==0):\n",
    "    print(\"Yes it is divisible by 5\")\n",
    "else:\n",
    "    print(\"No is not divisible by 5\")"
   ]
  }
 ],
 "metadata": {
  "kernelspec": {
   "display_name": "Python 3 (ipykernel)",
   "language": "python",
   "name": "python3"
  },
  "language_info": {
   "codemirror_mode": {
    "name": "ipython",
    "version": 3
   },
   "file_extension": ".py",
   "mimetype": "text/x-python",
   "name": "python",
   "nbconvert_exporter": "python",
   "pygments_lexer": "ipython3",
   "version": "3.11.7"
  }
 },
 "nbformat": 4,
 "nbformat_minor": 5
}
