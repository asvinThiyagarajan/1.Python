{
 "cells": [
  {
   "cell_type": "code",
   "execution_count": null,
   "id": "bb84896d-b541-4e88-aaea-331bee8e6b1c",
   "metadata": {},
   "outputs": [],
   "source": [
    "#6.Class-Assignment-Python- ASVIN"
   ]
  },
  {
   "cell_type": "code",
   "execution_count": null,
   "id": "5655eff0-4dd8-45c9-ac33-05348984561c",
   "metadata": {},
   "outputs": [],
   "source": [
    "# Create a class and function, and list out the items in the list"
   ]
  },
  {
   "cell_type": "code",
   "execution_count": 6,
   "id": "3df06057-ee74-40c1-856e-19c872f5997c",
   "metadata": {},
   "outputs": [],
   "source": [
    "class multipleFunctions():\n",
    "    def Subfields():\n",
    "        subFieldsinAI=[\"Machine Learning\",\"Neural Networks\",\"Vision\",\"Robotics\",\"Speech Processing\",\"Natural Language Processing\"]\n",
    "        print(\"Sub-fields in AI are:\")\n",
    "        for fields in subFieldsinAI:\n",
    "            print(fields)\n",
    "        \n",
    "    def OddEven():\n",
    "        num=int(input(\"Enter a number:\"))\n",
    "        if(num%2==0):\n",
    "            print(num,\"is Even number\")\n",
    "        else:\n",
    "            print(num,\"is Odd number\")\n",
    "        \n",
    "    def Eligible():\n",
    "        Gender=input(\"Your Gender:\")\n",
    "        Age=int(input(\"Your Age:\"))\n",
    "        if(Gender==\"Male\" and Age>=21):\n",
    "            print(\"ELIGIBLE\")\n",
    "        elif(Gender==\"Female\" and Age>=18):\n",
    "            print(\"ELIGIBLE\")\n",
    "        else:\n",
    "            print(\"NOT ELIGIBLE\")\n",
    "        \n",
    "    def percentage():\n",
    "        Subject1=int(input(\"Subject1=\"))\n",
    "        Subject2=int(input(\"Subject2=\"))\n",
    "        Subject3=int(input(\"Subject3=\"))\n",
    "        Subject4=int(input(\"Subject4=\"))\n",
    "        Subject5=int(input(\"Subject5=\"))\n",
    "        Total=Subject1+Subject2+Subject3+Subject4+Subject5\n",
    "        Percentage=(Total/500)*100\n",
    "        print(\"Total :\",Total)\n",
    "        print(\"Percentage :\",Percentage)\n",
    "\n",
    "    def triangle():\n",
    "        Height=int(input(\"Height:\"))\n",
    "        Breadth=int(input(\"Breadth:\"))\n",
    "        areaOfTriangle=(Height*Breadth)/2\n",
    "        print(\"Area formula: (Height*Breadth)/2\")\n",
    "        print(\"Area of Triangle:\",areaOfTriangle)\n",
    "        Height1=int(input(\"Height1:\"))\n",
    "        Height2=int(input(\"Height2:\"))\n",
    "        Breadth=int(input(\"Breadth:\"))\n",
    "        perimeterOfTriangle=Height1+Height2+Breadth\n",
    "        print(\"Perimeter formula: Height1+Height2+Breadth\")\n",
    "        print(\"Perimeter of Triangle:\",perimeterOfTriangle)"
   ]
  },
  {
   "cell_type": "code",
   "execution_count": 7,
   "id": "0a125072-1191-4f02-90a8-2f03cb277748",
   "metadata": {},
   "outputs": [
    {
     "name": "stdout",
     "output_type": "stream",
     "text": [
      "Sub-fields in AI are:\n",
      "Machine Learning\n",
      "Neural Networks\n",
      "Vision\n",
      "Robotics\n",
      "Speech Processing\n",
      "Natural Language Processing\n"
     ]
    }
   ],
   "source": [
    "multipleFunctions.Subfields()"
   ]
  },
  {
   "cell_type": "code",
   "execution_count": 8,
   "id": "8c5f89e7-ab75-47a0-a0cd-e0d07a58944e",
   "metadata": {},
   "outputs": [
    {
     "name": "stdin",
     "output_type": "stream",
     "text": [
      "Enter a number: 52452\n"
     ]
    },
    {
     "name": "stdout",
     "output_type": "stream",
     "text": [
      "52452 is Even number\n"
     ]
    }
   ],
   "source": [
    "multipleFunctions.OddEven()"
   ]
  },
  {
   "cell_type": "code",
   "execution_count": 9,
   "id": "89411722-4e70-490c-a690-dfa407b41e5e",
   "metadata": {},
   "outputs": [
    {
     "name": "stdin",
     "output_type": "stream",
     "text": [
      "Your Gender: Male\n",
      "Your Age: 20\n"
     ]
    },
    {
     "name": "stdout",
     "output_type": "stream",
     "text": [
      "NOT ELIGIBLE\n"
     ]
    }
   ],
   "source": [
    "multipleFunctions.Eligible()"
   ]
  },
  {
   "cell_type": "code",
   "execution_count": 10,
   "id": "72f7a837-b9d4-4f7e-b4aa-62c025c7bf5c",
   "metadata": {},
   "outputs": [
    {
     "name": "stdin",
     "output_type": "stream",
     "text": [
      "Subject1= 98\n",
      "Subject2= 87\n",
      "Subject3= 95\n",
      "Subject4= 95\n",
      "Subject5= 93\n"
     ]
    },
    {
     "name": "stdout",
     "output_type": "stream",
     "text": [
      "Total : 468\n",
      "Percentage : 93.60000000000001\n"
     ]
    }
   ],
   "source": [
    "multipleFunctions.percentage()"
   ]
  },
  {
   "cell_type": "code",
   "execution_count": 11,
   "id": "115f80e2-2d0c-4bd9-8b16-c3a0e1a1cdd0",
   "metadata": {},
   "outputs": [
    {
     "name": "stdin",
     "output_type": "stream",
     "text": [
      "Height: 32\n",
      "Breadth: 34\n"
     ]
    },
    {
     "name": "stdout",
     "output_type": "stream",
     "text": [
      "Area formula: (Height*Breadth)/2\n",
      "Area of Triangle: 544.0\n"
     ]
    },
    {
     "name": "stdin",
     "output_type": "stream",
     "text": [
      "Height1: 2\n",
      "Height2: 4\n",
      "Breadth: 4\n"
     ]
    },
    {
     "name": "stdout",
     "output_type": "stream",
     "text": [
      "Perimeter formula: Height1+Height2+Breadth\n",
      "Perimeter of Triangle: 10\n"
     ]
    }
   ],
   "source": [
    "multipleFunctions.triangle()"
   ]
  }
 ],
 "metadata": {
  "kernelspec": {
   "display_name": "Python 3 (ipykernel)",
   "language": "python",
   "name": "python3"
  },
  "language_info": {
   "codemirror_mode": {
    "name": "ipython",
    "version": 3
   },
   "file_extension": ".py",
   "mimetype": "text/x-python",
   "name": "python",
   "nbconvert_exporter": "python",
   "pygments_lexer": "ipython3",
   "version": "3.11.7"
  }
 },
 "nbformat": 4,
 "nbformat_minor": 5
}
