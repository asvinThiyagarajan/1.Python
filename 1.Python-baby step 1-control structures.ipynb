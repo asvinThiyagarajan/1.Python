{
 "cells": [
  {
   "cell_type": "code",
   "execution_count": null,
   "id": "ada6307f-edae-4722-a682-73dd5c619340",
   "metadata": {},
   "outputs": [],
   "source": [
    "#Assignment 1 - Baby Steps Control Structures - ASVIN "
   ]
  },
  {
   "cell_type": "code",
   "execution_count": 1,
   "id": "7dda8a2d-b546-436c-a56d-3563e45bba5f",
   "metadata": {},
   "outputs": [
    {
     "name": "stdout",
     "output_type": "stream",
     "text": [
      "Welcome to Assignment-1\n"
     ]
    }
   ],
   "source": [
    "print(\"Welcome to Assignment-1\")"
   ]
  },
  {
   "cell_type": "code",
   "execution_count": 2,
   "id": "3bc7384f-ba1d-4e3c-89c0-331ea3697139",
   "metadata": {},
   "outputs": [
    {
     "name": "stdout",
     "output_type": "stream",
     "text": [
      "Num1=  10\n",
      "Num2=  30\n",
      "Add=  40\n"
     ]
    }
   ],
   "source": [
    "Num1=10\n",
    "Num2=30\n",
    "print(\"Num1= \",Num1)\n",
    "print(\"Num2= \",Num2)\n",
    "print(\"Add= \",Num1+Num2)"
   ]
  },
  {
   "cell_type": "code",
   "execution_count": 11,
   "id": "3ddd8358-5633-4768-b30d-6a3f5896fe5b",
   "metadata": {},
   "outputs": [
    {
     "name": "stdin",
     "output_type": "stream",
     "text": [
      "Enter the BMI Index: 34\n"
     ]
    },
    {
     "name": "stdout",
     "output_type": "stream",
     "text": [
      "Very Overweight\n"
     ]
    }
   ],
   "source": [
    "#Body Mass Index (BMI)\n",
    "\n",
    "BMI=int(input(\"Enter the BMI Index:\"))\n",
    "if(BMI<18.5):\n",
    "    print(\"Under weight\")\n",
    "elif(BMI<24.9):\n",
    "    print(\"Normal weight\")\n",
    "elif(BMI<29.9):\n",
    "    print(\"Over weight\")  \n",
    "else:\n",
    "    print(\"Very Overweight\")"
   ]
  }
 ],
 "metadata": {
  "kernelspec": {
   "display_name": "Python 3 (ipykernel)",
   "language": "python",
   "name": "python3"
  },
  "language_info": {
   "codemirror_mode": {
    "name": "ipython",
    "version": 3
   },
   "file_extension": ".py",
   "mimetype": "text/x-python",
   "name": "python",
   "nbconvert_exporter": "python",
   "pygments_lexer": "ipython3",
   "version": "3.11.7"
  }
 },
 "nbformat": 4,
 "nbformat_minor": 5
}
